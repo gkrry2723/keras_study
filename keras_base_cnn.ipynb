{
  "nbformat": 4,
  "nbformat_minor": 0,
  "metadata": {
    "colab": {
      "name": "keras_base_cnn.ipynb",
      "provenance": [],
      "authorship_tag": "ABX9TyNJ5Cy8JwogRGUB5hRfYVRR",
      "include_colab_link": true
    },
    "kernelspec": {
      "name": "python3",
      "display_name": "Python 3"
    },
    "language_info": {
      "name": "python"
    }
  },
  "cells": [
    {
      "cell_type": "markdown",
      "metadata": {
        "id": "view-in-github",
        "colab_type": "text"
      },
      "source": [
        "<a href=\"https://colab.research.google.com/github/gkrry2723/keras_study/blob/main/keras_base_cnn.ipynb\" target=\"_parent\"><img src=\"https://colab.research.google.com/assets/colab-badge.svg\" alt=\"Open In Colab\"/></a>"
      ]
    },
    {
      "cell_type": "markdown",
      "metadata": {
        "id": "At8oruXgL7z-"
      },
      "source": [
        "# **keras - ANN**"
      ]
    },
    {
      "cell_type": "code",
      "metadata": {
        "id": "QsnrEmrVJmi-",
        "colab": {
          "base_uri": "https://localhost:8080/"
        },
        "outputId": "95ace14d-1569-4c13-89cb-85c2524dd1b2"
      },
      "source": [
        "import numpy as np\n",
        "from keras.utils import to_categorical\n",
        "from keras.datasets import cifar10\n",
        "\n",
        "(x_train, y_train), (x_test, y_test) = cifar10.load_data()\n",
        "\n",
        "NUM_CLASSES = 10\n",
        "\n",
        "# 입력이 1 ~ -1 사이일때 가장 잘 동작하기 때문에 255로 나눠줌\n",
        "# [ 500000, 32, 32, 3] -> 4차원 텐서\n",
        "# x_train[54,12,13,1] : 인덱스 54의 이미지에서 (12,13)에 해당하는 픽셀의 초록색 채널의 값\n",
        "x_train = x_train.astype('float')/255.0\n",
        "x_test = x_test.astype('float')/255.0\n",
        "\n",
        "# 이미지의 정수 레이블을 one-hot encoding vector로 바꿔줌\n",
        "# one-hot vector : 정수 레이블이 7이면 7번째 원소만 1이고 나머지는 0 인 길이가 10(클래스 개수)인 벡터\n",
        "# [50000,10], [10000,10]\n",
        "y_train = to_categorical(y_train, NUM_CLASSES)\n",
        "y_test = to_categorical(y_test, NUM_CLASSES)"
      ],
      "execution_count": 1,
      "outputs": [
        {
          "output_type": "stream",
          "text": [
            "Downloading data from https://www.cs.toronto.edu/~kriz/cifar-10-python.tar.gz\n",
            "170500096/170498071 [==============================] - 3s 0us/step\n"
          ],
          "name": "stdout"
        }
      ]
    },
    {
      "cell_type": "code",
      "metadata": {
        "id": "3mMXd3XHMJh9"
      },
      "source": [
        "# Sequential 모델을 사용한 네트워크\n",
        "from keras.models import Sequential\n",
        "from keras.layers import Flatten, Dense\n",
        "\n",
        "model = Sequential([\n",
        "Dense(200, activation = 'relu', input_shape=(32,32,3)),\n",
        "Flatten(),\n",
        "Dense(150, activation = 'relu'),\n",
        "Dense(10, activation='softmax'),\n",
        "])"
      ],
      "execution_count": 2,
      "outputs": []
    },
    {
      "cell_type": "code",
      "metadata": {
        "colab": {
          "base_uri": "https://localhost:8080/"
        },
        "id": "-4mXO2NOMuXI",
        "outputId": "b59de4ed-8061-41ca-bb51-84e9517634eb"
      },
      "source": [
        "# 함수형 API를 사용한 네트워크 ( 네트워크의 구조 정의 )\n",
        "\n",
        "from keras.layers import Input, Flatten, Dense\n",
        "from keras.models import Model\n",
        "\n",
        "input_layer = Input(shape=(32,32,3))\n",
        "\n",
        "x = Flatten()(input_layer)\n",
        "\n",
        "x = Dense(units=200,activation='relu')(x)\n",
        "x = Dense(units=150, activation='relu')(x)\n",
        "\n",
        "output_layer = Dense(units=10, activation= 'softmax')(x)\n",
        "\n",
        "model = Model(input_layer, output_layer)\n",
        "\n",
        "model.summary()"
      ],
      "execution_count": 3,
      "outputs": [
        {
          "output_type": "stream",
          "text": [
            "Model: \"model\"\n",
            "_________________________________________________________________\n",
            "Layer (type)                 Output Shape              Param #   \n",
            "=================================================================\n",
            "input_1 (InputLayer)         [(None, 32, 32, 3)]       0         \n",
            "_________________________________________________________________\n",
            "flatten_1 (Flatten)          (None, 3072)              0         \n",
            "_________________________________________________________________\n",
            "dense_3 (Dense)              (None, 200)               614600    \n",
            "_________________________________________________________________\n",
            "dense_4 (Dense)              (None, 150)               30150     \n",
            "_________________________________________________________________\n",
            "dense_5 (Dense)              (None, 10)                1510      \n",
            "=================================================================\n",
            "Total params: 646,260\n",
            "Trainable params: 646,260\n",
            "Non-trainable params: 0\n",
            "_________________________________________________________________\n"
          ],
          "name": "stdout"
        }
      ]
    },
    {
      "cell_type": "code",
      "metadata": {
        "colab": {
          "base_uri": "https://localhost:8080/"
        },
        "id": "0y3x4FfNXK4i",
        "outputId": "8ec9fb65-f704-478d-fe0b-fba99ee6e35c"
      },
      "source": [
        "# 모델 컴파일 (모델 손실 함수와 옵티마이저 연결)\n",
        "from keras.optimizers import Adam\n",
        "\n",
        "opt = Adam(lr=0.0005)\n",
        "model.compile(loss='categorical_crossentropy', optimizer = opt, metrics= ['accuracy'])\n",
        "\n",
        "# 모델 훈련\n",
        "model.fit(x_train, y_train, batch_size = 32, epochs=100, shuffle=True)"
      ],
      "execution_count": 4,
      "outputs": [
        {
          "output_type": "stream",
          "text": [
            "Epoch 1/100\n",
            "1563/1563 [==============================] - 8s 5ms/step - loss: 1.9698 - accuracy: 0.2851\n",
            "Epoch 2/100\n",
            "1563/1563 [==============================] - 7s 5ms/step - loss: 1.6943 - accuracy: 0.3948\n",
            "Epoch 3/100\n",
            "1563/1563 [==============================] - 7s 5ms/step - loss: 1.5976 - accuracy: 0.4283\n",
            "Epoch 4/100\n",
            "1563/1563 [==============================] - 8s 5ms/step - loss: 1.5452 - accuracy: 0.4501\n",
            "Epoch 5/100\n",
            "1563/1563 [==============================] - 8s 5ms/step - loss: 1.5029 - accuracy: 0.4611\n",
            "Epoch 6/100\n",
            "1563/1563 [==============================] - 8s 5ms/step - loss: 1.4760 - accuracy: 0.4760\n",
            "Epoch 7/100\n",
            "1563/1563 [==============================] - 8s 5ms/step - loss: 1.4496 - accuracy: 0.4849\n",
            "Epoch 8/100\n",
            "1563/1563 [==============================] - 8s 5ms/step - loss: 1.4229 - accuracy: 0.4899\n",
            "Epoch 9/100\n",
            "1563/1563 [==============================] - 8s 5ms/step - loss: 1.3997 - accuracy: 0.5024\n",
            "Epoch 10/100\n",
            "1563/1563 [==============================] - 8s 5ms/step - loss: 1.3822 - accuracy: 0.5064\n",
            "Epoch 11/100\n",
            "1563/1563 [==============================] - 8s 5ms/step - loss: 1.3623 - accuracy: 0.5179\n",
            "Epoch 12/100\n",
            "1563/1563 [==============================] - 8s 5ms/step - loss: 1.3554 - accuracy: 0.5168\n",
            "Epoch 13/100\n",
            "1563/1563 [==============================] - 8s 5ms/step - loss: 1.3428 - accuracy: 0.5224\n",
            "Epoch 14/100\n",
            "1563/1563 [==============================] - 8s 5ms/step - loss: 1.3258 - accuracy: 0.5270\n",
            "Epoch 15/100\n",
            "1563/1563 [==============================] - 8s 5ms/step - loss: 1.3161 - accuracy: 0.5322\n",
            "Epoch 16/100\n",
            "1563/1563 [==============================] - 8s 5ms/step - loss: 1.2990 - accuracy: 0.5413\n",
            "Epoch 17/100\n",
            "1563/1563 [==============================] - 8s 5ms/step - loss: 1.2926 - accuracy: 0.5389\n",
            "Epoch 18/100\n",
            "1563/1563 [==============================] - 8s 5ms/step - loss: 1.2805 - accuracy: 0.5433\n",
            "Epoch 19/100\n",
            "1563/1563 [==============================] - 8s 5ms/step - loss: 1.2703 - accuracy: 0.5492\n",
            "Epoch 20/100\n",
            "1563/1563 [==============================] - 8s 5ms/step - loss: 1.2594 - accuracy: 0.5522\n",
            "Epoch 21/100\n",
            "1563/1563 [==============================] - 8s 5ms/step - loss: 1.2576 - accuracy: 0.5507\n",
            "Epoch 22/100\n",
            "1563/1563 [==============================] - 8s 5ms/step - loss: 1.2433 - accuracy: 0.5576\n",
            "Epoch 23/100\n",
            "1563/1563 [==============================] - 8s 5ms/step - loss: 1.2414 - accuracy: 0.5569\n",
            "Epoch 24/100\n",
            "1563/1563 [==============================] - 8s 5ms/step - loss: 1.2312 - accuracy: 0.5638\n",
            "Epoch 25/100\n",
            "1563/1563 [==============================] - 8s 5ms/step - loss: 1.2263 - accuracy: 0.5626\n",
            "Epoch 26/100\n",
            "1563/1563 [==============================] - 8s 5ms/step - loss: 1.2178 - accuracy: 0.5639\n",
            "Epoch 27/100\n",
            "1563/1563 [==============================] - 8s 5ms/step - loss: 1.2045 - accuracy: 0.5709\n",
            "Epoch 28/100\n",
            "1563/1563 [==============================] - 8s 5ms/step - loss: 1.1900 - accuracy: 0.5782\n",
            "Epoch 29/100\n",
            "1563/1563 [==============================] - 8s 5ms/step - loss: 1.1925 - accuracy: 0.5775\n",
            "Epoch 30/100\n",
            "1563/1563 [==============================] - 8s 5ms/step - loss: 1.1758 - accuracy: 0.5849\n",
            "Epoch 31/100\n",
            "1563/1563 [==============================] - 8s 5ms/step - loss: 1.1706 - accuracy: 0.5831\n",
            "Epoch 32/100\n",
            "1563/1563 [==============================] - 8s 5ms/step - loss: 1.1753 - accuracy: 0.5800\n",
            "Epoch 33/100\n",
            "1563/1563 [==============================] - 8s 5ms/step - loss: 1.1722 - accuracy: 0.5801\n",
            "Epoch 34/100\n",
            "1563/1563 [==============================] - 8s 5ms/step - loss: 1.1763 - accuracy: 0.5799\n",
            "Epoch 35/100\n",
            "1563/1563 [==============================] - 8s 5ms/step - loss: 1.1626 - accuracy: 0.5850\n",
            "Epoch 36/100\n",
            "1563/1563 [==============================] - 8s 5ms/step - loss: 1.1544 - accuracy: 0.5900\n",
            "Epoch 37/100\n",
            "1563/1563 [==============================] - 8s 5ms/step - loss: 1.1468 - accuracy: 0.5907\n",
            "Epoch 38/100\n",
            "1563/1563 [==============================] - 8s 5ms/step - loss: 1.1491 - accuracy: 0.5912\n",
            "Epoch 39/100\n",
            "1563/1563 [==============================] - 8s 5ms/step - loss: 1.1518 - accuracy: 0.5891\n",
            "Epoch 40/100\n",
            "1563/1563 [==============================] - 8s 5ms/step - loss: 1.1337 - accuracy: 0.5946\n",
            "Epoch 41/100\n",
            "1563/1563 [==============================] - 8s 5ms/step - loss: 1.1337 - accuracy: 0.5969\n",
            "Epoch 42/100\n",
            "1563/1563 [==============================] - 8s 5ms/step - loss: 1.1322 - accuracy: 0.5961\n",
            "Epoch 43/100\n",
            "1563/1563 [==============================] - 8s 5ms/step - loss: 1.1267 - accuracy: 0.5978\n",
            "Epoch 44/100\n",
            "1563/1563 [==============================] - 8s 5ms/step - loss: 1.1191 - accuracy: 0.5995\n",
            "Epoch 45/100\n",
            "1563/1563 [==============================] - 8s 5ms/step - loss: 1.1159 - accuracy: 0.6020\n",
            "Epoch 46/100\n",
            "1563/1563 [==============================] - 8s 5ms/step - loss: 1.1105 - accuracy: 0.6049\n",
            "Epoch 47/100\n",
            "1563/1563 [==============================] - 8s 5ms/step - loss: 1.1172 - accuracy: 0.6008\n",
            "Epoch 48/100\n",
            "1563/1563 [==============================] - 8s 5ms/step - loss: 1.1115 - accuracy: 0.6034\n",
            "Epoch 49/100\n",
            "1563/1563 [==============================] - 8s 5ms/step - loss: 1.1029 - accuracy: 0.6064\n",
            "Epoch 50/100\n",
            "1563/1563 [==============================] - 8s 5ms/step - loss: 1.0920 - accuracy: 0.6133\n",
            "Epoch 51/100\n",
            "1563/1563 [==============================] - 8s 5ms/step - loss: 1.1015 - accuracy: 0.6064\n",
            "Epoch 52/100\n",
            "1563/1563 [==============================] - 8s 5ms/step - loss: 1.0829 - accuracy: 0.6136\n",
            "Epoch 53/100\n",
            "1563/1563 [==============================] - 9s 5ms/step - loss: 1.0961 - accuracy: 0.6115\n",
            "Epoch 54/100\n",
            "1563/1563 [==============================] - 11s 7ms/step - loss: 1.0969 - accuracy: 0.6078\n",
            "Epoch 55/100\n",
            "1563/1563 [==============================] - 8s 5ms/step - loss: 1.0893 - accuracy: 0.6105\n",
            "Epoch 56/100\n",
            "1563/1563 [==============================] - 8s 5ms/step - loss: 1.0810 - accuracy: 0.6172\n",
            "Epoch 57/100\n",
            "1563/1563 [==============================] - 8s 5ms/step - loss: 1.0779 - accuracy: 0.6141\n",
            "Epoch 58/100\n",
            "1563/1563 [==============================] - 8s 5ms/step - loss: 1.0824 - accuracy: 0.6138\n",
            "Epoch 59/100\n",
            "1563/1563 [==============================] - 8s 5ms/step - loss: 1.0759 - accuracy: 0.6170\n",
            "Epoch 60/100\n",
            "1563/1563 [==============================] - 8s 5ms/step - loss: 1.0612 - accuracy: 0.6215\n",
            "Epoch 61/100\n",
            "1563/1563 [==============================] - 8s 5ms/step - loss: 1.0707 - accuracy: 0.6167\n",
            "Epoch 62/100\n",
            "1563/1563 [==============================] - 8s 5ms/step - loss: 1.0629 - accuracy: 0.6204\n",
            "Epoch 63/100\n",
            "1563/1563 [==============================] - 8s 5ms/step - loss: 1.0599 - accuracy: 0.6214\n",
            "Epoch 64/100\n",
            "1563/1563 [==============================] - 8s 5ms/step - loss: 1.0542 - accuracy: 0.6227\n",
            "Epoch 65/100\n",
            "1563/1563 [==============================] - 8s 5ms/step - loss: 1.0578 - accuracy: 0.6204\n",
            "Epoch 66/100\n",
            "1563/1563 [==============================] - 8s 5ms/step - loss: 1.0576 - accuracy: 0.6244\n",
            "Epoch 67/100\n",
            "1563/1563 [==============================] - 8s 5ms/step - loss: 1.0485 - accuracy: 0.6265\n",
            "Epoch 68/100\n",
            "1563/1563 [==============================] - 8s 5ms/step - loss: 1.0510 - accuracy: 0.6255\n",
            "Epoch 69/100\n",
            "1563/1563 [==============================] - 8s 5ms/step - loss: 1.0461 - accuracy: 0.6268\n",
            "Epoch 70/100\n",
            "1563/1563 [==============================] - 8s 5ms/step - loss: 1.0359 - accuracy: 0.6290\n",
            "Epoch 71/100\n",
            "1563/1563 [==============================] - 8s 5ms/step - loss: 1.0404 - accuracy: 0.6248\n",
            "Epoch 72/100\n",
            "1563/1563 [==============================] - 8s 5ms/step - loss: 1.0350 - accuracy: 0.6349\n",
            "Epoch 73/100\n",
            "1563/1563 [==============================] - 8s 5ms/step - loss: 1.0194 - accuracy: 0.6398\n",
            "Epoch 74/100\n",
            "1563/1563 [==============================] - 8s 5ms/step - loss: 1.0267 - accuracy: 0.6354\n",
            "Epoch 75/100\n",
            "1563/1563 [==============================] - 8s 5ms/step - loss: 1.0379 - accuracy: 0.6294\n",
            "Epoch 76/100\n",
            "1563/1563 [==============================] - 8s 5ms/step - loss: 1.0162 - accuracy: 0.6373\n",
            "Epoch 77/100\n",
            "1563/1563 [==============================] - 8s 5ms/step - loss: 1.0237 - accuracy: 0.6319\n",
            "Epoch 78/100\n",
            "1563/1563 [==============================] - 8s 5ms/step - loss: 1.0207 - accuracy: 0.6356\n",
            "Epoch 79/100\n",
            "1563/1563 [==============================] - 8s 5ms/step - loss: 1.0087 - accuracy: 0.6401\n",
            "Epoch 80/100\n",
            "1563/1563 [==============================] - 8s 5ms/step - loss: 1.0210 - accuracy: 0.6357\n",
            "Epoch 81/100\n",
            "1563/1563 [==============================] - 8s 5ms/step - loss: 1.0055 - accuracy: 0.6415\n",
            "Epoch 82/100\n",
            "1563/1563 [==============================] - 8s 5ms/step - loss: 1.0054 - accuracy: 0.6409\n",
            "Epoch 83/100\n",
            "1563/1563 [==============================] - 8s 5ms/step - loss: 1.0148 - accuracy: 0.6404\n",
            "Epoch 84/100\n",
            "1563/1563 [==============================] - 8s 5ms/step - loss: 0.9920 - accuracy: 0.6440\n",
            "Epoch 85/100\n",
            "1563/1563 [==============================] - 8s 5ms/step - loss: 1.0002 - accuracy: 0.6448\n",
            "Epoch 86/100\n",
            "1563/1563 [==============================] - 8s 5ms/step - loss: 1.0125 - accuracy: 0.6397\n",
            "Epoch 87/100\n",
            "1563/1563 [==============================] - 8s 5ms/step - loss: 0.9882 - accuracy: 0.6489\n",
            "Epoch 88/100\n",
            "1563/1563 [==============================] - 8s 5ms/step - loss: 0.9932 - accuracy: 0.6451\n",
            "Epoch 89/100\n",
            "1563/1563 [==============================] - 8s 5ms/step - loss: 0.9976 - accuracy: 0.6465\n",
            "Epoch 90/100\n",
            "1563/1563 [==============================] - 8s 5ms/step - loss: 0.9894 - accuracy: 0.6457\n",
            "Epoch 91/100\n",
            "1563/1563 [==============================] - 8s 5ms/step - loss: 0.9898 - accuracy: 0.6494\n",
            "Epoch 92/100\n",
            "1563/1563 [==============================] - 8s 5ms/step - loss: 0.9967 - accuracy: 0.6425\n",
            "Epoch 93/100\n",
            "1563/1563 [==============================] - 8s 5ms/step - loss: 0.9859 - accuracy: 0.6500\n",
            "Epoch 94/100\n",
            "1563/1563 [==============================] - 8s 5ms/step - loss: 0.9871 - accuracy: 0.6473\n",
            "Epoch 95/100\n",
            "1563/1563 [==============================] - 8s 5ms/step - loss: 0.9843 - accuracy: 0.6417\n",
            "Epoch 96/100\n",
            "1563/1563 [==============================] - 8s 5ms/step - loss: 0.9799 - accuracy: 0.6487\n",
            "Epoch 97/100\n",
            "1563/1563 [==============================] - 8s 5ms/step - loss: 0.9764 - accuracy: 0.6513\n",
            "Epoch 98/100\n",
            "1563/1563 [==============================] - 8s 5ms/step - loss: 0.9716 - accuracy: 0.6536\n",
            "Epoch 99/100\n",
            "1563/1563 [==============================] - 8s 5ms/step - loss: 0.9838 - accuracy: 0.6499\n",
            "Epoch 100/100\n",
            "1563/1563 [==============================] - 8s 5ms/step - loss: 0.9727 - accuracy: 0.6540\n"
          ],
          "name": "stdout"
        },
        {
          "output_type": "execute_result",
          "data": {
            "text/plain": [
              "<tensorflow.python.keras.callbacks.History at 0x7f29f30e1fd0>"
            ]
          },
          "metadata": {
            "tags": []
          },
          "execution_count": 4
        }
      ]
    },
    {
      "cell_type": "code",
      "metadata": {
        "colab": {
          "base_uri": "https://localhost:8080/"
        },
        "id": "6GwlZIzKYqr8",
        "outputId": "2d248f08-38b7-4fa0-86a2-58485eabab52"
      },
      "source": [
        "# 모델 평가\n",
        "model.evaluate(x_test, y_test)\n"
      ],
      "execution_count": 5,
      "outputs": [
        {
          "output_type": "stream",
          "text": [
            "313/313 [==============================] - 1s 2ms/step - loss: 1.5435 - accuracy: 0.4968\n"
          ],
          "name": "stdout"
        },
        {
          "output_type": "execute_result",
          "data": {
            "text/plain": [
              "[1.543472409248352, 0.4968000054359436]"
            ]
          },
          "metadata": {
            "tags": []
          },
          "execution_count": 5
        }
      ]
    },
    {
      "cell_type": "code",
      "metadata": {
        "id": "D3zwgx9mY0KW"
      },
      "source": [
        "#predict 메서드 -> 테스트 세트에 대한 예측 결과 확인\n",
        "CLASSES = np.array(['airplane', 'automobile', 'bird', 'cat', 'deer', 'dog', 'frog', 'horse', 'ship', 'truck'])\n",
        "\n",
        "# [10000,10]의 크기 배열, 샘플마다 10개의 클래스 확률을 담은 벡터가 반환됨\n",
        "preds = model.predict(x_test)\n",
        "# 확률 배열을 하나의 예측 결과로 바꾸고 (axis=-1은 마지막 차원으로 배열을 압축하라는 것) pred_single의 크기는 [10000,1]로 바뀜\n",
        "preds_single = CLASSES[np.argmax(preds, axis = -1)]\n",
        "actual_single = CLASSES[np.argmax(y_test, axis = -1)]"
      ],
      "execution_count": 6,
      "outputs": []
    },
    {
      "cell_type": "code",
      "metadata": {
        "colab": {
          "base_uri": "https://localhost:8080/",
          "height": 138
        },
        "id": "gwLBU-l4aH_g",
        "outputId": "a8bc10e0-a411-464e-a69e-21a72c44d389"
      },
      "source": [
        "# 이미지와 예측값, 실제 레이블을 나란히 출력\n",
        "\n",
        "import matplotlib.pyplot as plt\n",
        "\n",
        "n_to_show = 10\n",
        "indices = np.random.choice(range(len(x_test)), n_to_show)\n",
        "\n",
        "fig = plt.figure(figsize=(15,3))\n",
        "fig.subplots_adjust(hspace=0.4, wspace=0.4)\n",
        "\n",
        "for i, idx in enumerate(indices):\n",
        "  img = x_test[idx]\n",
        "  ax = fig.add_subplot(1, n_to_show, i+1)\n",
        "  ax.axis('off')\n",
        "  ax.text(0.5, -0.35, 'pred = ' + str(preds_single[idx]), fontsize=10, ha='center', transform=ax.transAxes)\n",
        "  ax.text(0.5, -0.7, 'act = ' + str(actual_single[idx]), fontsize=10, ha='center', transform=ax.transAxes)\n",
        "  ax.imshow(img)"
      ],
      "execution_count": 7,
      "outputs": [
        {
          "output_type": "display_data",
          "data": {
            "image/png": "[encoded data removed]",
            "text/plain": [
              "<Figure size 1080x216 with 10 Axes>"
            ]
          },
          "metadata": {
            "tags": [],
            "needs_background": "light"
          }
        }
      ]
    },
    {
      "cell_type": "markdown",
      "metadata": {
        "id": "vB1_5F9Gb0xz"
      },
      "source": [
        "# **keras-CNN**"
      ]
    },
    {
      "cell_type": "code",
      "metadata": {
        "id": "Y2Cfff3SfRV1"
      },
      "source": [
        "import numpy as np\n",
        "from keras.utils import to_categorical\n",
        "from keras.datasets import cifar10\n",
        "\n",
        "(x_train, y_train), (x_test, y_test) = cifar10.load_data()\n",
        "NUM_CLASSES = 10\n",
        "\n",
        "x_train = x_train.astype('float')/255.0\n",
        "x_test = x_test.astype('float')/255.0\n",
        "\n",
        "y_train = to_categorical(y_train, NUM_CLASSES)\n",
        "y_test = to_categorical(y_test, NUM_CLASSES)"
      ],
      "execution_count": 8,
      "outputs": []
    },
    {
      "cell_type": "code",
      "metadata": {
        "colab": {
          "base_uri": "https://localhost:8080/"
        },
        "id": "PHKLAYLyfsxc",
        "outputId": "5de76b95-6f20-400c-c9e5-904c23b5a3a3"
      },
      "source": [
        "from keras.layers import Input, Flatten, Dense, Conv2D\n",
        "from keras.models import Model\n",
        "\n",
        "input_layer = Input(shape=(32,32,3))\n",
        "\n",
        "conv_layer1 = Conv2D(filters = 10, kernel_size = (4,4), strides = 2, padding = 'same')(input_layer)\n",
        "conv_layer2 = Conv2D(filters = 20, kernel_size = (3,3), strides = 2, padding = 'same')(conv_layer1)\n",
        "\n",
        "flatten_layer = Flatten()(conv_layer2)\n",
        "\n",
        "output_layer = Dense(units=10, activation='softmax')(flatten_layer)\n",
        "\n",
        "model = Model(input_layer, output_layer)\n",
        "\n",
        "model.summary()"
      ],
      "execution_count": 9,
      "outputs": [
        {
          "output_type": "stream",
          "text": [
            "Model: \"model_1\"\n",
            "_________________________________________________________________\n",
            "Layer (type)                 Output Shape              Param #   \n",
            "=================================================================\n",
            "input_2 (InputLayer)         [(None, 32, 32, 3)]       0         \n",
            "_________________________________________________________________\n",
            "conv2d (Conv2D)              (None, 16, 16, 10)        490       \n",
            "_________________________________________________________________\n",
            "conv2d_1 (Conv2D)            (None, 8, 8, 20)          1820      \n",
            "_________________________________________________________________\n",
            "flatten_2 (Flatten)          (None, 1280)              0         \n",
            "_________________________________________________________________\n",
            "dense_6 (Dense)              (None, 10)                12810     \n",
            "=================================================================\n",
            "Total params: 15,120\n",
            "Trainable params: 15,120\n",
            "Non-trainable params: 0\n",
            "_________________________________________________________________\n"
          ],
          "name": "stdout"
        }
      ]
    },
    {
      "cell_type": "code",
      "metadata": {
        "colab": {
          "base_uri": "https://localhost:8080/"
        },
        "id": "YgDPhUpuoK5h",
        "outputId": "c44881eb-19ee-401c-bb80-1419e146eb18"
      },
      "source": [
        "from keras.layers import Input, Flatten, Dense, Conv2D, BatchNormalization, LeakyReLU, Dropout, Activation\n",
        "from keras.models import Model\n",
        "\n",
        "input_layer = Input(shape=(32,32,3))\n",
        "\n",
        "x = Conv2D(filters = 32, kernel_size = 3, strides = 1, padding = 'same')(input_layer)\n",
        "x = BatchNormalization()(x)\n",
        "x = LeakyReLU()(x)\n",
        "\n",
        "x = Conv2D(filters = 32, kernel_size = 3, strides = 2, padding = 'same')(input_layer)\n",
        "x = BatchNormalization()(x)\n",
        "x = LeakyReLU()(x)\n",
        "\n",
        "x = Conv2D(filters = 64, kernel_size = 3, strides = 1, padding = 'same')(input_layer)\n",
        "x = BatchNormalization()(x)\n",
        "x = LeakyReLU()(x)\n",
        "\n",
        "x = Conv2D(filters = 64, kernel_size = 3, strides = 2, padding = 'same')(input_layer)\n",
        "x = BatchNormalization()(x)\n",
        "x = LeakyReLU()(x)\n",
        "\n",
        "x= Flatten()(x)\n",
        "\n",
        "x = Dense(128)(x)\n",
        "x = BatchNormalization()(x)\n",
        "x = LeakyReLU()(x)\n",
        "x = Dropout(rate = 0.5)(x)\n",
        "\n",
        "x = Dense(NUM_CLASSES)(x)\n",
        "output_layer = Activation('softmax')(x)\n",
        "model = Model(input_layer, output_layer)\n",
        "\n",
        "model.summary()"
      ],
      "execution_count": 10,
      "outputs": [
        {
          "output_type": "stream",
          "text": [
            "Model: \"model_2\"\n",
            "_________________________________________________________________\n",
            "Layer (type)                 Output Shape              Param #   \n",
            "=================================================================\n",
            "input_3 (InputLayer)         [(None, 32, 32, 3)]       0         \n",
            "_________________________________________________________________\n",
            "conv2d_5 (Conv2D)            (None, 16, 16, 64)        1792      \n",
            "_________________________________________________________________\n",
            "batch_normalization_3 (Batch (None, 16, 16, 64)        256       \n",
            "_________________________________________________________________\n",
            "leaky_re_lu_3 (LeakyReLU)    (None, 16, 16, 64)        0         \n",
            "_________________________________________________________________\n",
            "flatten_3 (Flatten)          (None, 16384)             0         \n",
            "_________________________________________________________________\n",
            "dense_7 (Dense)              (None, 128)               2097280   \n",
            "_________________________________________________________________\n",
            "batch_normalization_4 (Batch (None, 128)               512       \n",
            "_________________________________________________________________\n",
            "leaky_re_lu_4 (LeakyReLU)    (None, 128)               0         \n",
            "_________________________________________________________________\n",
            "dropout (Dropout)            (None, 128)               0         \n",
            "_________________________________________________________________\n",
            "dense_8 (Dense)              (None, 10)                1290      \n",
            "_________________________________________________________________\n",
            "activation (Activation)      (None, 10)                0         \n",
            "=================================================================\n",
            "Total params: 2,101,130\n",
            "Trainable params: 2,100,746\n",
            "Non-trainable params: 384\n",
            "_________________________________________________________________\n"
          ],
          "name": "stdout"
        }
      ]
    },
    {
      "cell_type": "code",
      "metadata": {
        "colab": {
          "base_uri": "https://localhost:8080/"
        },
        "id": "_8zpO6Nm6VQz",
        "outputId": "2260032f-8801-4e34-8f8c-351b4d9ffd9c"
      },
      "source": [
        "# 모델 컴파일 (모델 손실 함수와 옵티마이저 연결)\n",
        "from keras.optimizers import Adam\n",
        "\n",
        "opt = Adam(lr=0.0005)\n",
        "model.compile(loss='categorical_crossentropy', optimizer = opt, metrics= ['accuracy'])\n",
        "\n",
        "# 모델 훈련\n",
        "model.fit(x_train, y_train, batch_size = 32, epochs=100, shuffle=True)"
      ],
      "execution_count": 12,
      "outputs": [
        {
          "output_type": "stream",
          "text": [
            "Epoch 1/100\n",
            "1563/1563 [==============================] - 52s 33ms/step - loss: 1.9064 - accuracy: 0.3556\n",
            "Epoch 2/100\n",
            "1563/1563 [==============================] - 51s 33ms/step - loss: 1.4013 - accuracy: 0.5016\n",
            "Epoch 3/100\n",
            "1563/1563 [==============================] - 52s 33ms/step - loss: 1.2987 - accuracy: 0.5421\n",
            "Epoch 4/100\n",
            "1563/1563 [==============================] - 52s 33ms/step - loss: 1.2234 - accuracy: 0.5652\n",
            "Epoch 5/100\n",
            "1563/1563 [==============================] - 52s 33ms/step - loss: 1.1580 - accuracy: 0.5935\n",
            "Epoch 6/100\n",
            "1563/1563 [==============================] - 51s 33ms/step - loss: 1.1149 - accuracy: 0.6062\n",
            "Epoch 7/100\n",
            "1563/1563 [==============================] - 51s 33ms/step - loss: 1.0647 - accuracy: 0.6240\n",
            "Epoch 8/100\n",
            "1563/1563 [==============================] - 52s 33ms/step - loss: 1.0297 - accuracy: 0.6365\n",
            "Epoch 9/100\n",
            "1563/1563 [==============================] - 52s 33ms/step - loss: 0.9909 - accuracy: 0.6487\n",
            "Epoch 10/100\n",
            "1563/1563 [==============================] - 52s 33ms/step - loss: 0.9613 - accuracy: 0.6611\n",
            "Epoch 11/100\n",
            "1563/1563 [==============================] - 51s 32ms/step - loss: 0.9538 - accuracy: 0.6627\n",
            "Epoch 12/100\n",
            "1563/1563 [==============================] - 52s 33ms/step - loss: 0.9278 - accuracy: 0.6710\n",
            "Epoch 13/100\n",
            "1563/1563 [==============================] - 51s 33ms/step - loss: 0.9064 - accuracy: 0.6773\n",
            "Epoch 14/100\n",
            "1563/1563 [==============================] - 52s 33ms/step - loss: 0.8973 - accuracy: 0.6841\n",
            "Epoch 15/100\n",
            "1563/1563 [==============================] - 51s 33ms/step - loss: 0.8641 - accuracy: 0.6957\n",
            "Epoch 16/100\n",
            "1563/1563 [==============================] - 51s 33ms/step - loss: 0.8555 - accuracy: 0.6988\n",
            "Epoch 17/100\n",
            "1563/1563 [==============================] - 52s 33ms/step - loss: 0.8345 - accuracy: 0.7045\n",
            "Epoch 18/100\n",
            "1563/1563 [==============================] - 52s 33ms/step - loss: 0.8166 - accuracy: 0.7063\n",
            "Epoch 19/100\n",
            "1563/1563 [==============================] - 52s 33ms/step - loss: 0.8093 - accuracy: 0.7135\n",
            "Epoch 20/100\n",
            "1563/1563 [==============================] - 52s 33ms/step - loss: 0.8023 - accuracy: 0.7158\n",
            "Epoch 21/100\n",
            "1563/1563 [==============================] - 52s 33ms/step - loss: 0.7774 - accuracy: 0.7191\n",
            "Epoch 22/100\n",
            "1563/1563 [==============================] - 52s 33ms/step - loss: 0.7738 - accuracy: 0.7256\n",
            "Epoch 23/100\n",
            "1563/1563 [==============================] - 51s 33ms/step - loss: 0.7727 - accuracy: 0.7228\n",
            "Epoch 24/100\n",
            "1563/1563 [==============================] - 52s 33ms/step - loss: 0.7568 - accuracy: 0.7298\n",
            "Epoch 25/100\n",
            "1563/1563 [==============================] - 51s 33ms/step - loss: 0.7396 - accuracy: 0.7376\n",
            "Epoch 26/100\n",
            "1563/1563 [==============================] - 52s 33ms/step - loss: 0.7208 - accuracy: 0.7450\n",
            "Epoch 27/100\n",
            "1563/1563 [==============================] - 51s 33ms/step - loss: 0.7197 - accuracy: 0.7434\n",
            "Epoch 28/100\n",
            "1563/1563 [==============================] - 51s 33ms/step - loss: 0.6985 - accuracy: 0.7473\n",
            "Epoch 29/100\n",
            "1563/1563 [==============================] - 52s 33ms/step - loss: 0.7021 - accuracy: 0.7490\n",
            "Epoch 30/100\n",
            "1563/1563 [==============================] - 51s 33ms/step - loss: 0.6946 - accuracy: 0.7501\n",
            "Epoch 31/100\n",
            "1563/1563 [==============================] - 52s 33ms/step - loss: 0.6782 - accuracy: 0.7571\n",
            "Epoch 32/100\n",
            "1563/1563 [==============================] - 51s 33ms/step - loss: 0.6738 - accuracy: 0.7602\n",
            "Epoch 33/100\n",
            "1563/1563 [==============================] - 52s 33ms/step - loss: 0.6587 - accuracy: 0.7637\n",
            "Epoch 34/100\n",
            "1563/1563 [==============================] - 51s 33ms/step - loss: 0.6590 - accuracy: 0.7653\n",
            "Epoch 35/100\n",
            "1563/1563 [==============================] - 52s 33ms/step - loss: 0.6412 - accuracy: 0.7718\n",
            "Epoch 36/100\n",
            "1563/1563 [==============================] - 52s 33ms/step - loss: 0.6481 - accuracy: 0.7673\n",
            "Epoch 37/100\n",
            "1563/1563 [==============================] - 51s 33ms/step - loss: 0.6230 - accuracy: 0.7768\n",
            "Epoch 38/100\n",
            "1563/1563 [==============================] - 52s 33ms/step - loss: 0.6333 - accuracy: 0.7723\n",
            "Epoch 39/100\n",
            "1563/1563 [==============================] - 51s 33ms/step - loss: 0.6148 - accuracy: 0.7766\n",
            "Epoch 40/100\n",
            "1563/1563 [==============================] - 52s 33ms/step - loss: 0.6138 - accuracy: 0.7785\n",
            "Epoch 41/100\n",
            "1563/1563 [==============================] - 52s 33ms/step - loss: 0.5990 - accuracy: 0.7885\n",
            "Epoch 42/100\n",
            "1563/1563 [==============================] - 52s 33ms/step - loss: 0.5981 - accuracy: 0.7831\n",
            "Epoch 43/100\n",
            "1563/1563 [==============================] - 52s 33ms/step - loss: 0.5942 - accuracy: 0.7840\n",
            "Epoch 44/100\n",
            "1563/1563 [==============================] - 52s 33ms/step - loss: 0.5918 - accuracy: 0.7880\n",
            "Epoch 45/100\n",
            "1563/1563 [==============================] - 52s 33ms/step - loss: 0.5931 - accuracy: 0.7852\n",
            "Epoch 46/100\n",
            "1563/1563 [==============================] - 51s 33ms/step - loss: 0.5722 - accuracy: 0.7930\n",
            "Epoch 47/100\n",
            "1563/1563 [==============================] - 53s 34ms/step - loss: 0.5660 - accuracy: 0.7948\n",
            "Epoch 48/100\n",
            "1563/1563 [==============================] - 53s 34ms/step - loss: 0.5560 - accuracy: 0.8030\n",
            "Epoch 49/100\n",
            "1563/1563 [==============================] - 52s 34ms/step - loss: 0.5599 - accuracy: 0.7994\n",
            "Epoch 50/100\n",
            "1563/1563 [==============================] - 52s 34ms/step - loss: 0.5558 - accuracy: 0.7994\n",
            "Epoch 51/100\n",
            "1563/1563 [==============================] - 52s 33ms/step - loss: 0.5343 - accuracy: 0.8045\n",
            "Epoch 52/100\n",
            "1563/1563 [==============================] - 52s 33ms/step - loss: 0.5461 - accuracy: 0.8040\n",
            "Epoch 53/100\n",
            "1563/1563 [==============================] - 51s 33ms/step - loss: 0.5463 - accuracy: 0.8045\n",
            "Epoch 54/100\n",
            "1563/1563 [==============================] - 52s 33ms/step - loss: 0.5362 - accuracy: 0.8061\n",
            "Epoch 55/100\n",
            "1563/1563 [==============================] - 51s 33ms/step - loss: 0.5272 - accuracy: 0.8092\n",
            "Epoch 56/100\n",
            "1563/1563 [==============================] - 51s 33ms/step - loss: 0.5275 - accuracy: 0.8087\n",
            "Epoch 57/100\n",
            "1563/1563 [==============================] - 52s 33ms/step - loss: 0.5186 - accuracy: 0.8142\n",
            "Epoch 58/100\n",
            "1563/1563 [==============================] - 52s 34ms/step - loss: 0.5055 - accuracy: 0.8183\n",
            "Epoch 59/100\n",
            "1563/1563 [==============================] - 51s 33ms/step - loss: 0.5004 - accuracy: 0.8189\n",
            "Epoch 60/100\n",
            "1563/1563 [==============================] - 52s 33ms/step - loss: 0.5040 - accuracy: 0.8169\n",
            "Epoch 61/100\n",
            "1563/1563 [==============================] - 53s 34ms/step - loss: 0.4993 - accuracy: 0.8189\n",
            "Epoch 62/100\n",
            "1563/1563 [==============================] - 52s 33ms/step - loss: 0.4900 - accuracy: 0.8248\n",
            "Epoch 63/100\n",
            "1563/1563 [==============================] - 53s 34ms/step - loss: 0.4863 - accuracy: 0.8227\n",
            "Epoch 64/100\n",
            "1563/1563 [==============================] - 52s 33ms/step - loss: 0.4893 - accuracy: 0.8235\n",
            "Epoch 65/100\n",
            "1563/1563 [==============================] - 52s 33ms/step - loss: 0.4958 - accuracy: 0.8190\n",
            "Epoch 66/100\n",
            "1563/1563 [==============================] - 52s 33ms/step - loss: 0.4772 - accuracy: 0.8287\n",
            "Epoch 67/100\n",
            "1563/1563 [==============================] - 51s 33ms/step - loss: 0.4823 - accuracy: 0.8267\n",
            "Epoch 68/100\n",
            "1563/1563 [==============================] - 53s 34ms/step - loss: 0.4822 - accuracy: 0.8284\n",
            "Epoch 69/100\n",
            "1563/1563 [==============================] - 53s 34ms/step - loss: 0.4753 - accuracy: 0.8251\n",
            "Epoch 70/100\n",
            "1563/1563 [==============================] - 54s 34ms/step - loss: 0.4756 - accuracy: 0.8293\n",
            "Epoch 71/100\n",
            "1563/1563 [==============================] - 52s 34ms/step - loss: 0.4706 - accuracy: 0.8311\n",
            "Epoch 72/100\n",
            "1563/1563 [==============================] - 53s 34ms/step - loss: 0.4595 - accuracy: 0.8328\n",
            "Epoch 73/100\n",
            "1563/1563 [==============================] - 53s 34ms/step - loss: 0.4521 - accuracy: 0.8362\n",
            "Epoch 74/100\n",
            "1563/1563 [==============================] - 52s 33ms/step - loss: 0.4424 - accuracy: 0.8383\n",
            "Epoch 75/100\n",
            "1563/1563 [==============================] - 53s 34ms/step - loss: 0.4536 - accuracy: 0.8350\n",
            "Epoch 76/100\n",
            "1563/1563 [==============================] - 52s 33ms/step - loss: 0.4517 - accuracy: 0.8346\n",
            "Epoch 77/100\n",
            "1563/1563 [==============================] - 52s 34ms/step - loss: 0.4547 - accuracy: 0.8363\n",
            "Epoch 78/100\n",
            "1563/1563 [==============================] - 52s 34ms/step - loss: 0.4339 - accuracy: 0.8439\n",
            "Epoch 79/100\n",
            "1563/1563 [==============================] - 52s 33ms/step - loss: 0.4373 - accuracy: 0.8417\n",
            "Epoch 80/100\n",
            "1563/1563 [==============================] - 53s 34ms/step - loss: 0.4266 - accuracy: 0.8454\n",
            "Epoch 81/100\n",
            "1563/1563 [==============================] - 53s 34ms/step - loss: 0.4314 - accuracy: 0.8412\n",
            "Epoch 82/100\n",
            "1563/1563 [==============================] - 53s 34ms/step - loss: 0.4279 - accuracy: 0.8418\n",
            "Epoch 83/100\n",
            "1563/1563 [==============================] - 53s 34ms/step - loss: 0.4235 - accuracy: 0.8460\n",
            "Epoch 84/100\n",
            "1563/1563 [==============================] - 53s 34ms/step - loss: 0.4289 - accuracy: 0.8455\n",
            "Epoch 85/100\n",
            "1563/1563 [==============================] - 53s 34ms/step - loss: 0.4225 - accuracy: 0.8459\n",
            "Epoch 86/100\n",
            "1563/1563 [==============================] - 52s 33ms/step - loss: 0.4128 - accuracy: 0.8498\n",
            "Epoch 87/100\n",
            "1563/1563 [==============================] - 52s 34ms/step - loss: 0.4171 - accuracy: 0.8511\n",
            "Epoch 88/100\n",
            "1563/1563 [==============================] - 52s 33ms/step - loss: 0.4113 - accuracy: 0.8507\n",
            "Epoch 89/100\n",
            "1563/1563 [==============================] - 52s 33ms/step - loss: 0.4110 - accuracy: 0.8514\n",
            "Epoch 90/100\n",
            "1563/1563 [==============================] - 52s 33ms/step - loss: 0.4197 - accuracy: 0.8485\n",
            "Epoch 91/100\n",
            "1563/1563 [==============================] - 52s 33ms/step - loss: 0.3955 - accuracy: 0.8580\n",
            "Epoch 92/100\n",
            "1563/1563 [==============================] - 52s 33ms/step - loss: 0.4089 - accuracy: 0.8520\n",
            "Epoch 93/100\n",
            "1563/1563 [==============================] - 52s 33ms/step - loss: 0.3973 - accuracy: 0.8559\n",
            "Epoch 94/100\n",
            "1563/1563 [==============================] - 52s 33ms/step - loss: 0.4108 - accuracy: 0.8493\n",
            "Epoch 95/100\n",
            "1563/1563 [==============================] - 52s 33ms/step - loss: 0.3983 - accuracy: 0.8564\n",
            "Epoch 96/100\n",
            "1563/1563 [==============================] - 52s 33ms/step - loss: 0.3935 - accuracy: 0.8574\n",
            "Epoch 97/100\n",
            "1563/1563 [==============================] - 52s 33ms/step - loss: 0.3911 - accuracy: 0.8603\n",
            "Epoch 98/100\n",
            "1563/1563 [==============================] - 52s 33ms/step - loss: 0.3939 - accuracy: 0.8582\n",
            "Epoch 99/100\n",
            "1563/1563 [==============================] - 52s 33ms/step - loss: 0.3864 - accuracy: 0.8575\n",
            "Epoch 100/100\n",
            "1563/1563 [==============================] - 52s 33ms/step - loss: 0.3788 - accuracy: 0.8621\n"
          ],
          "name": "stdout"
        },
        {
          "output_type": "execute_result",
          "data": {
            "text/plain": [
              "<tensorflow.python.keras.callbacks.History at 0x7f29e3d4da90>"
            ]
          },
          "metadata": {
            "tags": []
          },
          "execution_count": 12
        }
      ]
    },
    {
      "cell_type": "code",
      "metadata": {
        "colab": {
          "base_uri": "https://localhost:8080/"
        },
        "id": "onpTGxLY6OK8",
        "outputId": "0e21ff16-f69b-477f-fb62-2fc229906fb5"
      },
      "source": [
        "# 모델 평가\n",
        "model.evaluate(x_test, y_test)\n"
      ],
      "execution_count": 13,
      "outputs": [
        {
          "output_type": "stream",
          "text": [
            "313/313 [==============================] - 3s 8ms/step - loss: 1.8462 - accuracy: 0.5764\n"
          ],
          "name": "stdout"
        },
        {
          "output_type": "execute_result",
          "data": {
            "text/plain": [
              "[1.8462333679199219, 0.5763999819755554]"
            ]
          },
          "metadata": {
            "tags": []
          },
          "execution_count": 13
        }
      ]
    }
  ]
}